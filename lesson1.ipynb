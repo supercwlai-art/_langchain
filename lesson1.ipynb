{
 "cells": [
  {
   "cell_type": "code",
   "execution_count": 5,
   "id": "715908d8",
   "metadata": {},
   "outputs": [
    {
     "name": "stdout",
     "output_type": "stream",
     "text": [
      "小明\n",
      "<class 'str'>\n",
      "================\n",
      "18\n",
      "<class 'int'>\n",
      "=================\n",
      "175.5\n",
      "<class 'float'>\n",
      "===============\n",
      "True\n",
      "<class 'bool'>\n"
     ]
    }
   ],
   "source": [
    "name = \"小明\"\n",
    "print(name)\n",
    "print(type(name)) #呼叫function\n",
    "print('================')\n",
    "\n",
    "\n",
    "age = 18\n",
    "print(age)\n",
    "print(type(age))\n",
    "print('=================')\n",
    "\n",
    "height = 175.5\n",
    "print(height)\n",
    "print(type(height))\n",
    "print('===============')\n",
    "\n",
    "\n",
    "is_student = True\n",
    "print(is_student)\n",
    "print(type(is_student))"
   ]
  },
  {
   "cell_type": "markdown",
   "id": "018f5076",
   "metadata": {},
   "source": []
  }
 ],
 "metadata": {
  "kernelspec": {
   "display_name": "Python 3",
   "language": "python",
   "name": "python3"
  },
  "language_info": {
   "codemirror_mode": {
    "name": "ipython",
    "version": 3
   },
   "file_extension": ".py",
   "mimetype": "text/x-python",
   "name": "python",
   "nbconvert_exporter": "python",
   "pygments_lexer": "ipython3",
   "version": "3.11.9"
  }
 },
 "nbformat": 4,
 "nbformat_minor": 5
}
